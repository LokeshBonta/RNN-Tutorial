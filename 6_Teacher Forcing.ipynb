{
 "cells": [
  {
   "cell_type": "code",
   "execution_count": 6,
   "metadata": {
    "collapsed": true
   },
   "outputs": [],
   "source": [
    "from __future__ import unicode_literals, print_function, division\n",
    "from io import open\n",
    "import unicodedata\n",
    "import string\n",
    "import re\n",
    "import random\n",
    "\n",
    "import torch\n",
    "import torch.nn as nn\n",
    "from torch.autograd import Variable\n",
    "from torch import optim\n",
    "import torch.nn.functional as F\n",
    "\n",
    "from matplotlib import pyplot as plt\n",
    "\n",
    "use_cuda = torch.cuda.is_available()"
   ]
  },
  {
   "cell_type": "markdown",
   "metadata": {},
   "source": [
    "# Define a Language Class\n",
    "\n",
    "Parameters:\n",
    "1. word2index dict\n",
    "2. index2word dict\n",
    "3. word2count dict - to filter-out infrequent words\n",
    "4. n_count variable - for counting number of unique words in the language\n",
    "\n",
    "Input:\n",
    "\n",
    "1. Name of the Language -> French/English etc\n",
    "\n",
    "Methods:\n",
    "\n",
    "1. addSentence using addWord\n",
    "2. addWord"
   ]
  },
  {
   "cell_type": "code",
   "execution_count": 7,
   "metadata": {
    "collapsed": true
   },
   "outputs": [],
   "source": [
    "SOS_token = 0\n",
    "EOS_token = 1\n",
    "\n",
    "class Lang:\n",
    "    def __init__(self,name):\n",
    "        self.name = name\n",
    "        self.word2index = {}\n",
    "        self.index2word = {}\n",
    "        self.word2count = {}\n",
    "        self.n_words = 2 #Including SOS and EOS token for each language\n",
    "    \n",
    "    def addSentence(self,sentence):\n",
    "        for word in sentence.split(' '):\n",
    "            self.addWord(word)\n",
    "    \n",
    "    def addWord(self,word):\n",
    "        if word not in self.word2index:\n",
    "            self.word2count[word] = 1\n",
    "            self.word2index[word] = self.n_words\n",
    "            self.index2word[self.n_words] = word\n",
    "            self.n_words += 1\n",
    "        else :\n",
    "            self.word2count[word] += 1"
   ]
  },
  {
   "cell_type": "markdown",
   "metadata": {},
   "source": [
    "# Utilities for String Preprocessing\n",
    "\n",
    "This module is already completed. This is basic string processing in python using regex and inbuilt utility functions\n",
    "\n",
    "1. Convert string to lowerCase\n",
    "2. remove leading or trailing spaces - use strip()\n",
    "3. Convert all UniCode to ASCII Characters"
   ]
  },
  {
   "cell_type": "code",
   "execution_count": 8,
   "metadata": {
    "collapsed": true
   },
   "outputs": [],
   "source": [
    "# Turn a Unicode string to plain ASCII, thanks to\n",
    "# http://stackoverflow.com/a/518232/2809427\n",
    "def unicodeToAscii(s):\n",
    "    return ''.join(\n",
    "        c for c in unicodedata.normalize('NFD', s)\n",
    "        if unicodedata.category(c) != 'Mn'\n",
    "    )\n",
    "\n",
    "# Lowercase, trim, and remove non-letter characters\n",
    "\n",
    "def normalizeString(s):\n",
    "    s = unicodeToAscii(s.lower().strip())\n",
    "    s = re.sub(r\"([.!?])\", r\" \\1\", s)\n",
    "    s = re.sub(r\"[^a-zA-Z.!?]+\", r\" \", s)\n",
    "    return s"
   ]
  },
  {
   "cell_type": "markdown",
   "metadata": {},
   "source": [
    "# Load data\n",
    "\n",
    "Note: The data is present in eng-fra.txt file. You need to load the data using the following steps\n",
    "\n",
    "1. Load data from file, removing spaces and splitting by new-line\n",
    "2. Each line has 2 parts:\n",
    "    1. The french text\n",
    "    2. Tab separation '\\t'\n",
    "    3. The English translation\n",
    "    \n",
    "3. Use normalize each of the strings and create pairs of sentences.\n",
    "4. define a language model\n",
    "5. Return input_lang,output_lang and the pairs"
   ]
  },
  {
   "cell_type": "code",
   "execution_count": 9,
   "metadata": {},
   "outputs": [
    {
     "name": "stdout",
     "output_type": "stream",
     "text": [
      "Trimmed to 10853 sentence pairs\n",
      "Counted words:\n",
      "fra 4489\n",
      "eng 2925\n",
      "['vous etes plus grande que moi .', 'you are taller than me .']\n"
     ]
    }
   ],
   "source": [
    "def readLangs(lang1,lang2):\n",
    "    f = open('data/LSTM/eng-fra.txt', encoding='utf-8').read().strip().split(\"\\n\")\n",
    "    \n",
    "    pairs = [[normalizeString(p) for p in line.split('\\t')] for line in f]\n",
    "    \n",
    "    pairs = [list(reversed(p)) for p in pairs]\n",
    "    input_lang = Lang(lang2)\n",
    "    output_lang = Lang(lang1)\n",
    "    \n",
    "    return input_lang,output_lang,pairs\n",
    "\n",
    "MAX_LENGTH = 10\n",
    "\n",
    "eng_prefixes = (\n",
    "    \"i am \", \"i m \",\n",
    "    \"he is\", \"he s \",\n",
    "    \"she is\", \"she s\",\n",
    "    \"you are\", \"you re \",\n",
    "    \"we are\", \"we re \",\n",
    "    \"they are\", \"they re \"\n",
    ")\n",
    "\n",
    "def filterPair(p): # boolean function. True -> keep the pair, False ->discard\n",
    "    return len(p[0].split(' ')) < MAX_LENGTH and len(p[1].split(' ')) < MAX_LENGTH and p[1].startswith(eng_prefixes)\n",
    "\n",
    "def filterPairs(pairs):\n",
    "    return [pair for pair in pairs if filterPair(pair)]\n",
    "\n",
    "def prepareData(lang1,lang2):\n",
    "    input_lang,output_lang,pairs = readLangs(lang1,lang2)\n",
    "    pairs = filterPairs(pairs)\n",
    "    for pair in pairs:\n",
    "        input_lang.addSentence(pair[0])\n",
    "        output_lang.addSentence(pair[1])\n",
    "    \n",
    "    print(\"Trimmed to %s sentence pairs\" % len(pairs))\n",
    "    print(\"Counted words:\")\n",
    "    print(input_lang.name, input_lang.n_words)\n",
    "    print(output_lang.name, output_lang.n_words)\n",
    "    \n",
    "    return input_lang,output_lang,pairs\n",
    "\n",
    "input_lang,output_lang,pairs = prepareData('eng','fra')\n",
    "print(random.choice(pairs))"
   ]
  },
  {
   "cell_type": "markdown",
   "metadata": {},
   "source": [
    "# Encoder\n",
    "\n",
    "<img src =\"images/lstm2.png\">\n",
    "\n",
    "We are going to simulate the network shown above. It consists of 2 stages. One is the encoding phase and other is the decoding phase..\n",
    "\n",
    "The Encode Module is going to follow the network structure given below. The purpose of encoder is 2 folds:\n",
    "\n",
    "1. Outputs some value for every word in the input sequence\n",
    "2. For every input word - output a vector and a hidden state.\n",
    "\n",
    "This hidden state is used as \"input\" for the word of the input sequence.\n",
    "\n",
    "<img src = \"images/lstm1.png\" >\n",
    "\n",
    "Here, we are using a differen type of RNNCell - called the GRU (Gated Recurrent Unit). It is a very popular variant of LSTM Cell.\n",
    "\n",
    "Please fill in the code below to build the encoder network. You need to fill in the RHS of each line"
   ]
  },
  {
   "cell_type": "code",
   "execution_count": 10,
   "metadata": {
    "collapsed": true
   },
   "outputs": [],
   "source": [
    "class EncoderRNN(nn.Module):\n",
    "    def __init__(self,input_size,hidden_size,n_layers=1):\n",
    "        super(EncoderRNN,self).__init__()\n",
    "        \n",
    "        # define hidden size\n",
    "        self.hidden_size = hidden_size\n",
    "        # define n_layers\n",
    "        self.n_layers = n_layers\n",
    "        # define an embedding from input_size to hidden_size\n",
    "        self.embedding = nn.Embedding(input_size,hidden_size)\n",
    "        # gru from hidden to hidden (hidden of embedding to output-hidden)\n",
    "        self.gru = nn.GRU(hidden_size,hidden_size)\n",
    "        \n",
    "    def forward(self,input,hidden):\n",
    "        # map embedding and reshape it to (1,1,-1) shape (seq_len,batch_Size and input_size)\n",
    "        embedded = self.embedding(input).view(1,1,-1) #seq_len,batch_size = 1\n",
    "        # save embedded in variable output\n",
    "        output = embedded\n",
    "        # for each gru layer - by default it is 1\n",
    "        for i in range(self.n_layers):\n",
    "            # output,hidden hold the return values from gru cell\n",
    "            output,hidden = self.gru(output,hidden)\n",
    "        \n",
    "        # return output and hidden after each forward pass\n",
    "        return output,hidden\n",
    "    \n",
    "    def initHidden(self):\n",
    "        # return hidden layer values - zeros of size (1,1,hidden_size)\n",
    "        result = Variable(torch.zeros(1,1,self.hidden_size))\n",
    "        return result"
   ]
  },
  {
   "cell_type": "markdown",
   "metadata": {},
   "source": [
    "# Decoder\n",
    "\n",
    "<img src=\"images/lstm2.png\">\n",
    "\n",
    "Decoder is another RNN that takes encoders output vector/vectors and maps it to a sequence of words (translation)\n",
    "\n",
    "It takes the \"Context Vector\" from the encoder - the last output vector from the encoder module as its initial hidden state\n",
    "\n",
    "At every step, it is given an input token and a hidden state. Initial state is <SOS> token and the hidden state is the context vector from encoder (its last hidden state)\n",
    "\n",
    "<img src = \"images/lstm3.png\">\n"
   ]
  },
  {
   "cell_type": "code",
   "execution_count": 11,
   "metadata": {
    "collapsed": true
   },
   "outputs": [],
   "source": [
    "class DecoderRNN(nn.Module):\n",
    "    def __init__(self,hidden_size,output_size,n_layers=1):\n",
    "        super(DecoderRNN,self).__init__()\n",
    "        # define hidden size\n",
    "        self.hidden_size = hidden_size\n",
    "        # define n_layers\n",
    "        self.n_layers = n_layers\n",
    "        # define embedding taking output_size to hidden size\n",
    "        self.embedding = nn.Embedding(output_size,hidden_size)\n",
    "        # gru cell to take hidden to hidden!\n",
    "        self.gru = nn.GRU(hidden_size,hidden_size)\n",
    "        # linear from hidden to output size\n",
    "        self.out = nn.Linear(hidden_size,output_size)\n",
    "        # softmax classification - for prob of next word\n",
    "        self.softmax = nn.LogSoftmax()\n",
    "    \n",
    "    def forward(self,input,hidden):\n",
    "        # map input (which is encoder output) to (seq_len,batch_size,input_size) using embedding\n",
    "        output = self.embedding(input).view(1,1,-1) #seq_len,batch_size = 1,1\n",
    "        # for each of the gru layers\n",
    "        for i in range(self.n_layers):\n",
    "            # relu your output\n",
    "            output = F.relu(output)\n",
    "            # apply gru unit on output,hidden for next_level output,hidden\n",
    "            output,hidden = self.gru(output,hidden)\n",
    "        # apply softmax on the linear embedding of output[0]\n",
    "        output = self.softmax(self.out(output[0]))\n",
    "        # return output,hidden for next iteration\n",
    "        return output,hidden"
   ]
  },
  {
   "cell_type": "markdown",
   "metadata": {},
   "source": [
    "# Preparing Training Data\n",
    "\n",
    "You have pairs [ french_Sentence, English_sentence]. We now need one-hot representation of each of these sentences, w.r.t to their own respective vocabularies. This module will focus on preparing you training data\n"
   ]
  },
  {
   "cell_type": "code",
   "execution_count": 12,
   "metadata": {
    "collapsed": true
   },
   "outputs": [],
   "source": [
    "# given a sentence from language convert to a index-vector\n",
    "def indexesFromSentence(lang,sentence):\n",
    "    return [lang.word2index[word] for word in sentence.split(' ')]\n",
    "\n",
    "# convert the index-vector to tensor\n",
    "def variableFromSentence(lang,sentence):\n",
    "    indexes = indexesFromSentence(lang,sentence)\n",
    "    # add EOS flag\n",
    "    indexes.append(EOS_token)\n",
    "    # longTensor(index).view(-1,1) -> a column vector\n",
    "    result = Variable(torch.LongTensor(indexes).view(-1,1))\n",
    "\n",
    "    return result\n",
    "\n",
    "def variableFromPair(pair):\n",
    "    # construct tensors for input and target for every pait\n",
    "    input_variable = variableFromSentence(input_lang,pair[0])\n",
    "    target_variable = variableFromSentence(output_lang,pair[1])\n",
    "    return input_variable,target_variable"
   ]
  },
  {
   "cell_type": "code",
   "execution_count": 13,
   "metadata": {},
   "outputs": [
    {
     "data": {
      "text/plain": [
       "(Variable containing:\n",
       "     6\n",
       "   298\n",
       "    11\n",
       "   247\n",
       "    14\n",
       "   100\n",
       "   101\n",
       "   365\n",
       "     5\n",
       "     1\n",
       " [torch.LongTensor of size 10x1], Variable containing:\n",
       "    2\n",
       "    3\n",
       "  148\n",
       "   57\n",
       "    4\n",
       "    1\n",
       " [torch.LongTensor of size 6x1])"
      ]
     },
     "execution_count": 13,
     "metadata": {},
     "output_type": "execute_result"
    }
   ],
   "source": [
    "variableFromPair(pairs[1000])"
   ]
  },
  {
   "cell_type": "markdown",
   "metadata": {},
   "source": [
    "# Training the Model\n",
    "\n",
    "Now that we have defined our model, we need to train it to be able to perform seq2seq translation. The overview of the training process is as follows:\n",
    "\n",
    "1. Initialize hidden_layers with zeros\n",
    "2. Zero grad optimizers for both Encoder and Decoder RNN (Remember - there are 2 RNNs for each iteration)\n",
    "3. Define input and target lengths\n",
    "4. Define loss = 0\n",
    "\n",
    "## EncoderRNN Training\n",
    "\n",
    "1. For each word in the input sentence, pass it through the encoder\n",
    "2. Output of each time-step becomes the input for the next time-step\n",
    "\n",
    "\n",
    "<img src=\"images/lstm2.png\">\n",
    "\n",
    "Please complete the below module as per the steps given below."
   ]
  },
  {
   "cell_type": "markdown",
   "metadata": {},
   "source": [
    "# Teacher Forcing Network\n",
    "\n",
    "It is just a fancy name for using taget variable as input to decoder instead of hidden layer value from encoder..\n",
    "2 things to remember in this conext:\n",
    "\n",
    "1. There is a propotion w.r.t to using tearching forcing targets as decoder inputs.. "
   ]
  },
  {
   "cell_type": "code",
   "execution_count": 14,
   "metadata": {
    "collapsed": true
   },
   "outputs": [],
   "source": [
    "def train(input_variable,target_variable,encoder,decoder,encoder_optimizer,decoder_optimizer, criterion):\n",
    "    \n",
    "    # initialize encode hidden\n",
    "    encoder_hidden = encoder.initHidden()\n",
    "    # zero-out gradient for encoder and decoder optimizers\n",
    "    encoder_optimizer.zero_grad()\n",
    "    decoder_optimizer.zero_grad()\n",
    "    # compute input and target length\n",
    "    input_length = input_variable.size()[0]\n",
    "    target_length = target_variable.size()[0]\n",
    "    # intialize loss to 0\n",
    "    loss = 0\n",
    "    # for each input index\n",
    "    for ei in range(input_length):\n",
    "        #pass it to the encoder with the hidden state\n",
    "        encoder_output,encoder_hidden = encoder(input_variable[ei],encoder_hidden)\n",
    "    \n",
    "    # append decoder input with sos-token\n",
    "    decoder_input = Variable(torch.LongTensor([[SOS_token]]))\n",
    "    # decoder hidden will be encoder hidden\n",
    "    decoder_hidden = encoder_hidden\n",
    "    \n",
    "    # define teacher_forcing ratio and set flag\n",
    "    use_teacher_forcing = True if random.random()<.5 else False\n",
    "    \n",
    "    if use_teacher_forcing:\n",
    "        # for each till target length\n",
    "        for di in range(target_length):\n",
    "            # pass input and hidden throught the decoder\n",
    "            decoder_output,decoder_hidden = decoder(decoder_input,decoder_hidden)\n",
    "            # compute loss ,using deoder output and target variable\n",
    "            loss += criterion(decoder_output,target_variable[di])\n",
    "            # set input as targer variable\n",
    "            decoder_input = target_variable[di]\n",
    "    else:   \n",
    "        for di in range(target_length):\n",
    "            # pass input and hidden through the decoder\n",
    "            decoder_output,decoder_hidden = decoder(decoder_input,decoder_hidden)\n",
    "            # find index of maximun using decoder_output probabilities\n",
    "            topv,topi = decoder_output.data.topk(1)\n",
    "            next_index = topi[0][0]\n",
    "            # decoder input is the next variable Tensor\n",
    "            decoder_input = Variable(torch.LongTensor([[next_index]]))\n",
    "            # add to loss.. wait! dont backprop till the decoder computation is complete\n",
    "            loss += criterion(decoder_output,target_variable[di])\n",
    "            # if index is same as end of sentence then break!\n",
    "            if next_index==EOS_token:\n",
    "                break\n",
    "\n",
    "   # back propagate loss\n",
    "    loss.backward()\n",
    "    # step optimizer\n",
    "    encoder_optimizer.step()\n",
    "    decoder_optimizer.step()\n",
    "    #return loss (normalized loss)\n",
    "    return loss.data[0]/target_length\n",
    "                                 "
   ]
  },
  {
   "cell_type": "code",
   "execution_count": 15,
   "metadata": {
    "collapsed": true
   },
   "outputs": [],
   "source": [
    "def trainIters(encoder,decoder,n_iter,print_every=1000,learning_rate = .01):\n",
    "    plot_loss = []\n",
    "    print_loss = 0\n",
    "    # define optimizers - encoder and decoder opts\n",
    "    encoder_optimizer = optim.SGD(encoder.parameters(),lr = learning_rate)\n",
    "    decoder_optimizer = optim.SGD(decoder.parameters(),lr = learning_rate)\n",
    "    # generate random pairs..\n",
    "    training_set = [variableFromPair(random.choice(pairs)) for i in range(n_iter)]\n",
    "    # define NLLoss as loss criterion\n",
    "    criterion = nn.NLLLoss()\n",
    "    # for number of iterations\n",
    "    for i in range(1,n_iter+1):\n",
    "        # extract the input sentence\n",
    "        train_sentence = training_set[i-1]\n",
    "        # define input and target variable\n",
    "        input_variable = train_sentence[0]\n",
    "        target_variable = train_sentence[1]\n",
    "        # call train utilities\n",
    "        loss = train(input_variable,target_variable,encoder,decoder,encoder_optimizer,decoder_optimizer,criterion)\n",
    "        # add loss\n",
    "        print_loss += loss\n",
    "        \n",
    "        if i%print_every==0:\n",
    "            avg_loss = print_loss/print_every\n",
    "            print (\"Iteration %d and Loss %f\" % (i,avg_loss))\n",
    "            print_loss = 0\n",
    "            plot_loss.append(avg_loss)\n",
    "    \n",
    "    plt.figure()\n",
    "    fig, ax = plt.subplots()\n",
    "    # show loss plot\n",
    "    plt.plot(plot_loss)\n",
    "    plt.show()"
   ]
  },
  {
   "cell_type": "code",
   "execution_count": 16,
   "metadata": {},
   "outputs": [
    {
     "name": "stdout",
     "output_type": "stream",
     "text": [
      "Iteration 1000 and Loss 3.471181\n",
      "Iteration 2000 and Loss 3.044145\n",
      "Iteration 3000 and Loss 2.860929\n",
      "Iteration 4000 and Loss 2.742590\n",
      "Iteration 5000 and Loss 2.612650\n",
      "Iteration 6000 and Loss 2.487397\n",
      "Iteration 7000 and Loss 2.453658\n",
      "Iteration 8000 and Loss 2.361946\n",
      "Iteration 9000 and Loss 2.333279\n",
      "Iteration 10000 and Loss 2.220161\n",
      "Iteration 11000 and Loss 2.225520\n",
      "Iteration 12000 and Loss 2.110374\n",
      "Iteration 13000 and Loss 2.020653\n",
      "Iteration 14000 and Loss 2.023576\n",
      "Iteration 15000 and Loss 1.976859\n",
      "Iteration 16000 and Loss 1.902545\n",
      "Iteration 17000 and Loss 1.854898\n",
      "Iteration 18000 and Loss 1.845379\n",
      "Iteration 19000 and Loss 1.746475\n",
      "Iteration 20000 and Loss 1.740496\n",
      "Iteration 21000 and Loss 1.671627\n",
      "Iteration 22000 and Loss 1.640360\n",
      "Iteration 23000 and Loss 1.606424\n",
      "Iteration 24000 and Loss 1.609043\n",
      "Iteration 25000 and Loss 1.531879\n",
      "Iteration 26000 and Loss 1.541645\n",
      "Iteration 27000 and Loss 1.441238\n",
      "Iteration 28000 and Loss 1.438794\n",
      "Iteration 29000 and Loss 1.321520\n",
      "Iteration 30000 and Loss 1.327720\n",
      "Iteration 31000 and Loss 1.373613\n",
      "Iteration 32000 and Loss 1.332231\n",
      "Iteration 33000 and Loss 1.303774\n",
      "Iteration 34000 and Loss 1.222055\n",
      "Iteration 35000 and Loss 1.230011\n",
      "Iteration 36000 and Loss 1.188762\n",
      "Iteration 37000 and Loss 1.169124\n",
      "Iteration 38000 and Loss 1.169797\n",
      "Iteration 39000 and Loss 1.092996\n",
      "Iteration 40000 and Loss 1.021798\n",
      "Iteration 41000 and Loss 1.067132\n",
      "Iteration 42000 and Loss 1.030920\n",
      "Iteration 43000 and Loss 1.010438\n",
      "Iteration 44000 and Loss 0.997130\n",
      "Iteration 45000 and Loss 0.956412\n",
      "Iteration 46000 and Loss 0.948764\n",
      "Iteration 47000 and Loss 0.925258\n",
      "Iteration 48000 and Loss 0.916110\n",
      "Iteration 49000 and Loss 0.875070\n",
      "Iteration 50000 and Loss 0.887313\n",
      "Iteration 51000 and Loss 0.878656\n",
      "Iteration 52000 and Loss 0.809442\n",
      "Iteration 53000 and Loss 0.855140\n",
      "Iteration 54000 and Loss 0.796951\n",
      "Iteration 55000 and Loss 0.809146\n",
      "Iteration 56000 and Loss 0.770406\n",
      "Iteration 57000 and Loss 0.714839\n",
      "Iteration 58000 and Loss 0.749737\n",
      "Iteration 59000 and Loss 0.683888\n",
      "Iteration 60000 and Loss 0.726360\n",
      "Iteration 61000 and Loss 0.696049\n",
      "Iteration 62000 and Loss 0.637656\n",
      "Iteration 63000 and Loss 0.683924\n",
      "Iteration 64000 and Loss 0.639720\n",
      "Iteration 65000 and Loss 0.654455\n",
      "Iteration 66000 and Loss 0.633294\n",
      "Iteration 67000 and Loss 0.624243\n",
      "Iteration 68000 and Loss 0.604708\n",
      "Iteration 69000 and Loss 0.562594\n",
      "Iteration 70000 and Loss 0.578287\n",
      "Iteration 71000 and Loss 0.579140\n",
      "Iteration 72000 and Loss 0.568954\n",
      "Iteration 73000 and Loss 0.518681\n",
      "Iteration 74000 and Loss 0.549428\n",
      "Iteration 75000 and Loss 0.464549\n"
     ]
    },
    {
     "data": {
      "text/plain": [
       "<matplotlib.figure.Figure at 0x116c5c9e8>"
      ]
     },
     "metadata": {},
     "output_type": "display_data"
    },
    {
     "data": {
      "image/png": "[encoded data removed]",
      "text/plain": [
       "<matplotlib.figure.Figure at 0x116c5f7f0>"
      ]
     },
     "metadata": {},
     "output_type": "display_data"
    }
   ],
   "source": [
    "hidden_size = 256\n",
    "encoder = EncoderRNN(input_lang.n_words,hidden_size)\n",
    "decoder = DecoderRNN(hidden_size,output_lang.n_words)\n",
    "\n",
    "trainIters(encoder,decoder,n_iter=75000)"
   ]
  },
  {
   "cell_type": "code",
   "execution_count": 17,
   "metadata": {
    "collapsed": true
   },
   "outputs": [],
   "source": [
    "def evaluatePair(encoder,decoder,sentence,max_length = 10):\n",
    "    input_variable = variableFromSentence(input_lang,sentence)\n",
    "    input_length = input_variable.size()[0]\n",
    "    \n",
    "    encoder_hidden = encoder.initHidden()\n",
    "    \n",
    "    for ei in range(input_length):\n",
    "        encoder_output,encoder_hidden = encoder(input_variable[ei],encoder_hidden)\n",
    "    \n",
    "    decoder_input = Variable(torch.LongTensor([[SOS_token]]))\n",
    "    decoder_hidden = encoder_hidden\n",
    "    \n",
    "    decoder_words = []\n",
    "    \n",
    "    for di in range(max_length):\n",
    "        decoder_output,decoder_hidden = decoder(decoder_input,decoder_hidden)\n",
    "        topv, topi = decoder_output.data.topk(1)\n",
    "        next_index = topi[0][0]\n",
    "        \n",
    "        if next_index==EOS_token:\n",
    "            decoder_words.append('<EOS>')\n",
    "            break\n",
    "        else:\n",
    "            decoder_words.append(output_lang.index2word[next_index])\n",
    "            \n",
    "        decoder_input = Variable(torch.LongTensor([[next_index]]))\n",
    "    \n",
    "    return decoder_words\n",
    "\n",
    "def evaluate(encoder,decoder,n=10):\n",
    "    for i in range(n):\n",
    "        pair = random.choice(pairs)\n",
    "        print (\"Input: \",pair[0])\n",
    "        print (\"Ground Truth: \",pair[1])\n",
    "        output_words = evaluatePair(encoder,decoder,pair[0])\n",
    "        output_sentence = ' '.join(output_words)\n",
    "        print (\"Translation: \",output_sentence)\n",
    "        print (\"\\n\\n\")"
   ]
  },
  {
   "cell_type": "code",
   "execution_count": 18,
   "metadata": {},
   "outputs": [
    {
     "name": "stdout",
     "output_type": "stream",
     "text": [
      "Input:  je suis trop vieux pour aller en allemagne .\n",
      "Ground Truth:  i m too old to go to germany .\n",
      "Translation:  i m too old to go to go . <EOS>\n",
      "\n",
      "\n",
      "\n",
      "Input:  vous ne convenez pas .\n",
      "Ground Truth:  you re not fit .\n",
      "Translation:  you re not paying . <EOS>\n",
      "\n",
      "\n",
      "\n",
      "Input:  tu es seule n est ce pas ?\n",
      "Ground Truth:  you re alone aren t you ?\n",
      "Translation:  you re impressed aren t you ? <EOS>\n",
      "\n",
      "\n",
      "\n",
      "Input:  je ne vous en empeche pas .\n",
      "Ground Truth:  i m not stopping you .\n",
      "Translation:  i m not listening you . <EOS>\n",
      "\n",
      "\n",
      "\n",
      "Input:  il est une autorite reconnue sur le sujet .\n",
      "Ground Truth:  he is a recognized authority on the subject .\n",
      "Translation:  he is a member authority on the subject . <EOS>\n",
      "\n",
      "\n",
      "\n"
     ]
    }
   ],
   "source": [
    "evaluate(encoder,decoder,5)"
   ]
  },
  {
   "cell_type": "code",
   "execution_count": null,
   "metadata": {
    "collapsed": true
   },
   "outputs": [],
   "source": []
  }
 ],
 "metadata": {
  "kernelspec": {
   "display_name": "Python 3",
   "language": "python",
   "name": "python3"
  },
  "language_info": {
   "codemirror_mode": {
    "name": "ipython",
    "version": 3
   },
   "file_extension": ".py",
   "mimetype": "text/x-python",
   "name": "python",
   "nbconvert_exporter": "python",
   "pygments_lexer": "ipython3",
   "version": "3.6.3"
  }
 },
 "nbformat": 4,
 "nbformat_minor": 2
}
