{
 "cells": [
  {
   "cell_type": "markdown",
   "metadata": {},
   "source": [
    "# Classifying Names with Character Level RNN\n",
    "\n",
    "Welcome! In this assigment you will learn to build a recurrent net to help classify names to their country.\n",
    "\n",
    "1. ***Input:*** Kawachi ***output:*** Japanese\n",
    "2. ***Input:*** Watson ***output:*** Scottish\n",
    "\n",
    "Why do we need RNN?\n",
    "\n",
    "1. In text classification task, we use one-hot encoders for representing input. This results in loss of ordering information. For example:  Watson is Scottish but So Twan is chinese!!\n",
    "2. Both names have the same \"one-hot\" encoding and thus we need to preserve the order of character occurence for better classification\n",
    "3. Also\n",
    "\n",
    "*** Model Structure/Overview ***\n",
    "<img src = \"images/rnn_2.png\">"
   ]
  },
  {
   "cell_type": "code",
   "execution_count": null,
   "metadata": {
    "collapsed": true
   },
   "outputs": [],
   "source": [
    "from __future__ import unicode_literals, print_function, division\n",
    "from io import open\n",
    "import glob\n",
    "import unicodedata\n",
    "import string"
   ]
  },
  {
   "cell_type": "markdown",
   "metadata": {},
   "source": [
    "# Overview\n",
    "\n",
    "We are going to build the network shown above for using the \"ordering\" information in classifying names.\n",
    "\n",
    "***How to interpret the diagram:***\n",
    "\n",
    "1. The arrows represent flow of information/data\n",
    "2. Yellow boxes -> Input/Output to the network\n",
    "3. Blue boxes -> Variables/parameters/activation in the Network\n",
    "\n",
    "***You are going to code the following portions:***\n",
    "\n",
    "1. Processing Input and converting it to \"Desirable Form\"\n",
    "2. The RNN Class which builds the network\n",
    "3. Training the Network\n",
    "4. Visualizing Loss and Confusion Matrix\n",
    "\n",
    "***What you need not code***\n",
    "\n",
    "1. Loading files\n",
    "2. Basic String Processing\n",
    "3. Training phase - input processing\n",
    "\n",
    "However, I would suggest that it would be a good exercise to read the utilites and understand them before proceeding.\n",
    "\n",
    "Lets get started!!"
   ]
  },
  {
   "cell_type": "markdown",
   "metadata": {},
   "source": [
    "# Check if input files are available"
   ]
  },
  {
   "cell_type": "code",
   "execution_count": null,
   "metadata": {},
   "outputs": [],
   "source": [
    "# Utilities - to print what are the \"name categories\" we have\n",
    "def findFiles(path):\n",
    "    return glob.glob(path)\n",
    "\n",
    "print(findFiles('data/RNN/names/*.txt'))"
   ]
  },
  {
   "cell_type": "markdown",
   "metadata": {},
   "source": [
    "# String Processing - and mapping to ASCII"
   ]
  },
  {
   "cell_type": "code",
   "execution_count": null,
   "metadata": {
    "collapsed": true
   },
   "outputs": [],
   "source": [
    "# define possible set of characters\n",
    "all_letters = string.ascii_letters + \" .,;'\"\n",
    "# compute n_letters - kind of vocabulary\n",
    "n_letters = len(all_letters)\n",
    "\n",
    "#Took code from stack-overflow.. For converting Unicode to ASCII for special chars\n",
    "def unicodeToAscii(s):\n",
    "    return ''.join(\n",
    "        c for c in unicodedata.normalize('NFD', s)\n",
    "        if unicodedata.category(c) != 'Mn'\n",
    "        and c in all_letters\n",
    "    )"
   ]
  },
  {
   "cell_type": "markdown",
   "metadata": {},
   "source": [
    "# Load files\n",
    "\n",
    "***Note:*** Category_lines dictionary- Key should be language and Value should be all lines in that category/file"
   ]
  },
  {
   "cell_type": "code",
   "execution_count": null,
   "metadata": {
    "collapsed": true
   },
   "outputs": [],
   "source": [
    "# category_lines dict -> key:language and value:names in that category\n",
    "category_lines = {}\n",
    "# for all categories - like English, French, Spanish etc\n",
    "all_categories = []\n",
    "\n",
    "# for every word in a given category, convert it to ASCII\n",
    "def readLines(filename):\n",
    "    lines = open(filename, encoding='utf-8').read().strip().split('\\n')\n",
    "    return [unicodeToAscii(line) for line in lines]\n",
    "\n",
    "# for each category, load data into dict\n",
    "for filename in findFiles('data/RNN/names/*.txt'):\n",
    "    category = filename.split('/')[-1].split('.')[0]\n",
    "    all_categories.append(category)\n",
    "    lines = readLines(filename)\n",
    "    category_lines[category] = lines\n",
    "\n",
    "n_categories = len(all_categories)"
   ]
  },
  {
   "cell_type": "markdown",
   "metadata": {},
   "source": [
    "# You need to code the following\n",
    "\n",
    "1. Given letter find the index of letter in \"all_letters\" variable\n",
    "2. Given a letter, return the One-Hot encoding of the letter.\n",
    "3. Given a word, return a tensor of (len(word),1,n_letter) which one-hot encodes the input\n",
    "\n",
    "All through, we have batch size to be 1 - to be consistent with PyTorch input representation.\n",
    "\n",
    "***Ensure*** output of lineToTensor() for \"Sairam\" should be a tensor of dimension (6,1,57)"
   ]
  },
  {
   "cell_type": "code",
   "execution_count": null,
   "metadata": {},
   "outputs": [],
   "source": [
    "import torch\n",
    "\n",
    "# Find letter index from all_letters, e.g. \"a\" = 0\n",
    "def letterToIndex(letter):\n",
    "    return all_letters.find(letter)\n",
    "\n",
    "# convert each letter to one-hot tensor\n",
    "def letterToTensor(letter):\n",
    "    tensor = torch.zeros(1, n_letters)\n",
    "    tensor[0][letterToIndex(letter)] = 1\n",
    "    return tensor\n",
    "\n",
    "print(letterToTensor('a'))\n",
    "\n",
    "# convert each letter of a given line into a (seq_len,batch,vocab_size)Tensor - Batch_size=1\n",
    "def lineToTensor(line):\n",
    "    tensor = torch.zeros(len(line), 1, n_letters)\n",
    "    for li, letter in enumerate(line):\n",
    "        tensor[li][0][letterToIndex(letter)] = 1\n",
    "    return tensor\n",
    "\n",
    "print(lineToTensor('Sairam').size())"
   ]
  },
  {
   "cell_type": "markdown",
   "metadata": {},
   "source": [
    "# The RNN Module - Yay!\n",
    "\n",
    "<img src = \"images/rnn_2.png\">\n",
    "\n",
    "Code the above depicted network!! \n",
    "\n",
    "***Dont worry about using nn.RNN Module now. We will use it in the next exercise. For now focus on understanding how \"recurrence\" relation is captured in PyTorch.***\n",
    "\n",
    "I have already typed out the LHS - You need to fill-in the RHS taking help from the comments that preceed each line.\n",
    "\n",
    "***For each line of code please look up the diagram above to understand the flow of logic***\n",
    "\n",
    "Also, we are now just using ***linear combination*** only. Later we will add non-linearity, activations etc in next phase.\n",
    "\n",
    "***How to interpret the diagram:***\n",
    "\n",
    "1. The arrows represent flow of information/data\n",
    "2. Yellow boxes -> Input/Output to the network\n",
    "3. Blue boxes -> Variables/parameters/activation in the Network\n",
    "\n",
    "For any syntax clarification look up: http://pytorch.org/docs/master/nn.html"
   ]
  },
  {
   "cell_type": "code",
   "execution_count": null,
   "metadata": {
    "collapsed": true
   },
   "outputs": [],
   "source": [
    "import torch.nn as nn\n",
    "from torch.autograd import Variable\n",
    "\n",
    "# RNN Module Class\n",
    "class RNN(nn.Module):\n",
    "    def __init__(self, input_size, hidden_size, output_size):\n",
    "        super(RNN, self).__init__()\n",
    "        # save hidden_size\n",
    "        self.hidden_size = hidden_size\n",
    "        # i2h -> Linear Class taking (input+hidden)dim to hidden_size\n",
    "        self.i2h = nn.Linear(input_size + hidden_size, hidden_size)\n",
    "        # i2o -> Linear Class taking (input+hidden)dim to output_size\n",
    "        self.i2o = nn.Linear(input_size + hidden_size, output_size)\n",
    "        # define loss - LogSoftmax() loss\n",
    "        self.softmax = nn.LogSoftmax()\n",
    "\n",
    "    def forward(self, input, hidden):\n",
    "        # use torch.cat to concatenate input and hidden as input for next stage\n",
    "        combined = torch.cat((input, hidden), 1)\n",
    "        # compute hidden layer values\n",
    "        hidden = self.i2h(combined)\n",
    "        # compute output\n",
    "        output = self.i2o(combined)\n",
    "        # softmax of output for classification task\n",
    "        output = self.softmax(output)\n",
    "        # return output and hidden state for \"next\" time-step\n",
    "        return output, hidden\n",
    "\n",
    "    def initHidden(self):\n",
    "        # return Variable - torch.zeros of dimension (1,hidden_size)\n",
    "        return Variable(torch.zeros(1, self.hidden_size))\n",
    "\n",
    "# define hidden size\n",
    "n_hidden = 128\n",
    "# define model\n",
    "rnn = RNN(n_letters, n_hidden, n_categories)"
   ]
  },
  {
   "cell_type": "markdown",
   "metadata": {},
   "source": [
    "# Try out an example"
   ]
  },
  {
   "cell_type": "code",
   "execution_count": null,
   "metadata": {},
   "outputs": [],
   "source": [
    "# Try out an example!\n",
    "name = \"Sairam\"\n",
    "# create a input variable using line to tensor\n",
    "input = Variable(lineToTensor(name))\n",
    "# define initial hidden variable size-> (1,n_hidden)\n",
    "hidden = Variable(torch.zeros(1, n_hidden))\n",
    "# pass input - the first variable \"s\".. (input[0] and hidden) as input to RNN\n",
    "output, next_hidden = rnn(input[0], hidden)\n",
    "# output - probability of name belonging to one of 18 class (LogSoftmax prediction)\n",
    "print (output.size()) # Interpret output!!! - Very important"
   ]
  },
  {
   "cell_type": "markdown",
   "metadata": {},
   "source": [
    "# Utitlity code to generate one training example at a time\n",
    "\n",
    "***randomTrainingExample()*** -> return a training example in the following format\n",
    "\n",
    "1. Category: which language the word is from\n",
    "2. Line: the word itself\n",
    "3. Category_tensor: Which category the word belongs (index position) (label information)\n",
    "4. Line_tensor: one-hot representation of the word (len(word),1,n_letters)"
   ]
  },
  {
   "cell_type": "code",
   "execution_count": null,
   "metadata": {},
   "outputs": [],
   "source": [
    "# Utility function for generating \"random word\" from a \"random categories\"\n",
    "import random\n",
    "\n",
    "def randomChoice(l):\n",
    "    return l[random.randint(0, len(l) - 1)]\n",
    "\n",
    "def randomTrainingExample():\n",
    "    category = randomChoice(all_categories)\n",
    "    line = randomChoice(category_lines[category])\n",
    "    category_tensor = Variable(torch.LongTensor([all_categories.index(category)]))\n",
    "    line_tensor = Variable(lineToTensor(line))\n",
    "    return category, line, category_tensor, line_tensor\n",
    "\n",
    "for i in range(10):\n",
    "    category, line, category_tensor, line_tensor = randomTrainingExample()\n",
    "    print('category =', category, '/ line =', line)"
   ]
  },
  {
   "cell_type": "markdown",
   "metadata": {},
   "source": [
    "# Defining your Loss - nn.NLLoss()"
   ]
  },
  {
   "cell_type": "code",
   "execution_count": null,
   "metadata": {
    "collapsed": true
   },
   "outputs": [],
   "source": [
    "criterion = nn.NLLLoss()"
   ]
  },
  {
   "cell_type": "markdown",
   "metadata": {},
   "source": [
    "# Training your Network\n",
    "\n",
    "1. Define hidden layer\n",
    "2. zero-out rnn grad\n",
    "3. for each input/character\n",
    "    1. output,hidden = rnn(inout_char,hidden)\n",
    "4. Compute loss\n",
    "5. backpropagate loss though the network for the entire word\n",
    "6. for every weight matrix in rnn.parameters()\n",
    "    1.Do a gradient descent on rnn parameters using p.data.add_ utility\n",
    "7. return output and loss value!"
   ]
  },
  {
   "cell_type": "code",
   "execution_count": null,
   "metadata": {
    "collapsed": true
   },
   "outputs": [],
   "source": [
    "learning_rate = 0.005 # If you set this too high, it might explode. If too low, it might not learn\n",
    "\n",
    "#train module\n",
    "def train(category_tensor, line_tensor):\n",
    "    # initialize hidden layer\n",
    "    hidden = rnn.initHidden()\n",
    "    # zero-out gradients\n",
    "    rnn.zero_grad()\n",
    "    # for each character in the name\n",
    "    for i in range(line_tensor.size()[0]):\n",
    "        # forward propagate input - and output is \"prob\"\n",
    "        # remember the diagram!!!\n",
    "        output, hidden = rnn(line_tensor[i], hidden)\n",
    "\n",
    "    # compute loss\n",
    "    loss = criterion(output, category_tensor)\n",
    "    # backpropagte loss\n",
    "    loss.backward()\n",
    "\n",
    "    # manually update weights\n",
    "    # Add parameters' gradients to their values, multiplied by learning rate\n",
    "    for p in rnn.parameters():\n",
    "        p.data.add_(-learning_rate, p.grad.data)\n",
    "        \n",
    "    # return output, and loss\n",
    "    return output, loss.data[0]"
   ]
  },
  {
   "cell_type": "markdown",
   "metadata": {},
   "source": [
    "# Given the softmax output, classify into one of the 18 categories."
   ]
  },
  {
   "cell_type": "code",
   "execution_count": null,
   "metadata": {},
   "outputs": [],
   "source": [
    "# given the probability for each-class return the class it belongs.\n",
    "def categoryFromOutput(output):\n",
    "    # compute maximum, and index of maximum on output.data using topk\n",
    "    top_n, top_i = output.data.topk(1) # Tensor out of Variable with .data\n",
    "    # store the index value\n",
    "    category_i = top_i[0][0]\n",
    "    # return all_categories[index] and index\n",
    "    return all_categories[category_i], category_i\n",
    "\n",
    "print(categoryFromOutput(output))"
   ]
  },
  {
   "cell_type": "markdown",
   "metadata": {},
   "source": [
    "# Time to run your code!\n",
    "\n",
    "***For a number of times do the following***\n",
    "\n",
    "1. Generate random example - use randomTrainingExample()\n",
    "2. train on category tensor as label, and line_tensor as inputs in train function\n",
    "3. compute loss - cumulative"
   ]
  },
  {
   "cell_type": "code",
   "execution_count": null,
   "metadata": {},
   "outputs": [],
   "source": [
    "import time\n",
    "import math\n",
    "\n",
    "n_iters = 100000\n",
    "print_every = 5000\n",
    "plot_every = 1000\n",
    "\n",
    "# Keep track of losses for plotting\n",
    "current_loss = 0\n",
    "all_losses = []\n",
    "\n",
    "def timeSince(since):\n",
    "    now = time.time()\n",
    "    s = now - since\n",
    "    m = math.floor(s / 60)\n",
    "    s -= m * 60\n",
    "    return '%dm %ds' % (m, s)\n",
    "\n",
    "start = time.time()\n",
    "\n",
    "for iter in range(1, n_iters + 1):\n",
    "    # obtain a training example\n",
    "    category, line, category_tensor, line_tensor = randomTrainingExample()\n",
    "    # train RNN using that example - one character at a time\n",
    "    output, loss = train(category_tensor, line_tensor)\n",
    "    # cumulative loss for each \"plot-every-x\" number of iterations\n",
    "    current_loss += loss\n",
    "\n",
    "    # Print iter number, loss, name and guess\n",
    "    if iter % print_every == 0:\n",
    "        guess, guess_i = categoryFromOutput(output)\n",
    "        correct = '✓' if guess == category else '✗ (%s)' % category\n",
    "        print('%d %d%% (%s) %.4f %s / %s %s' % (iter, iter / n_iters * 100, timeSince(start), loss, line, guess, correct))\n",
    "\n",
    "    # Add current loss avg to list of losses\n",
    "    if iter % plot_every == 0:\n",
    "        all_losses.append(current_loss / plot_every)\n",
    "        current_loss = 0\n",
    "        "
   ]
  },
  {
   "cell_type": "markdown",
   "metadata": {},
   "source": [
    "# Plot the loss\n",
    "\n",
    "***if loss reducing==True:***\n",
    "\n",
    "Feel happy seeing loss!! Congratz... Great Job..\n",
    "\n",
    "***else:***\n",
    "\n",
    "Oops.. not reducing - something somewhere went wrong. Please re-read comments/pointers.. Just be careful while coding..No worries!"
   ]
  },
  {
   "cell_type": "code",
   "execution_count": null,
   "metadata": {},
   "outputs": [],
   "source": [
    "import matplotlib.pyplot as plt\n",
    "import matplotlib.ticker as ticker\n",
    "\n",
    "# Basic Plots\n",
    "plt.figure()\n",
    "plt.plot(all_losses)\n",
    "plt.show()"
   ]
  },
  {
   "cell_type": "markdown",
   "metadata": {},
   "source": [
    "# Visualize Confusion Matrix on Evaluation\n",
    "\n",
    "Just run the cell below - and visualize confusion matrix!\n",
    "\n",
    "Please read the code at leisure.. It is worth understanding how to compute the confusion matrix and visualizing the output.."
   ]
  },
  {
   "cell_type": "code",
   "execution_count": null,
   "metadata": {},
   "outputs": [],
   "source": [
    "# Keep track of correct guesses in a confusion matrix\n",
    "confusion = torch.zeros(n_categories, n_categories)\n",
    "n_confusion = 10000\n",
    "\n",
    "# Just return an output given a line\n",
    "def evaluate(line_tensor):\n",
    "    hidden = rnn.initHidden()\n",
    "\n",
    "    for i in range(line_tensor.size()[0]):\n",
    "        output, hidden = rnn(line_tensor[i], hidden)\n",
    "\n",
    "    return output\n",
    "\n",
    "# Go through a bunch of examples and record which are correctly guessed\n",
    "for i in range(n_confusion):\n",
    "    category, line, category_tensor, line_tensor = randomTrainingExample()\n",
    "    output = evaluate(line_tensor)\n",
    "    guess, guess_i = categoryFromOutput(output)\n",
    "    category_i = all_categories.index(category)\n",
    "    confusion[category_i][guess_i] += 1\n",
    "\n",
    "# Normalize by dividing every row by its sum\n",
    "for i in range(n_categories):\n",
    "    confusion[i] = confusion[i] / confusion[i].sum()\n",
    "\n",
    "# Set up plot\n",
    "fig = plt.figure()\n",
    "ax = fig.add_subplot(111)\n",
    "cax = ax.matshow(confusion.numpy())\n",
    "fig.colorbar(cax)\n",
    "\n",
    "# Set up axes\n",
    "ax.set_xticklabels([''] + all_categories, rotation=90)\n",
    "ax.set_yticklabels([''] + all_categories)\n",
    "\n",
    "# Force label at every tick\n",
    "ax.xaxis.set_major_locator(ticker.MultipleLocator(1))\n",
    "ax.yaxis.set_major_locator(ticker.MultipleLocator(1))\n",
    "\n",
    "# sphinx_gallery_thumbnail_number = 2\n",
    "plt.show()"
   ]
  },
  {
   "cell_type": "markdown",
   "metadata": {
    "collapsed": true
   },
   "source": [
    "# Sayanora\n",
    "\n",
    "Great! You have reached the end of the assignment.. \n",
    "\n",
    "***Take Away***\n",
    "\n",
    "1. How to build a recurrent network focusing at character level input\n",
    "2. Combine input and hidden as new-input and classify a given name\n",
    "\n",
    "***What Next***\n",
    "\n",
    "1. Now improve this by using a RNN module instead of linear nodes and see the improvemnt\n",
    "\n",
    "***Early Bird Offer!!!***\n",
    "2. Can LSTM Make it even better?? - For early birds!!"
   ]
  },
  {
   "cell_type": "code",
   "execution_count": null,
   "metadata": {
    "collapsed": true
   },
   "outputs": [],
   "source": []
  }
 ],
 "metadata": {
  "kernelspec": {
   "display_name": "Python 3",
   "language": "python",
   "name": "python3"
  },
  "language_info": {
   "codemirror_mode": {
    "name": "ipython",
    "version": 3
   },
   "file_extension": ".py",
   "mimetype": "text/x-python",
   "name": "python",
   "nbconvert_exporter": "python",
   "pygments_lexer": "ipython3",
   "version": "3.6.3"
  }
 },
 "nbformat": 4,
 "nbformat_minor": 2
}
