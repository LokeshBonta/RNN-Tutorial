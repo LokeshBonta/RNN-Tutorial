{
 "cells": [
  {
   "cell_type": "markdown",
   "metadata": {},
   "source": [
    "# Classifying Names with Character Level RNN - with LSTM\n",
    "\n",
    "Welcome! In this assigment you will learn to build a recurrent net to help classify names to their country.\n",
    "\n",
    "1. ***Input:*** Kawachi ***output:*** Japanese\n",
    "2. ***Input:*** Watson ***output:*** Scottish\n",
    "\n",
    "Why do we need LSTM??\n",
    "\n",
    "1. To retain LongTerm dependencies in the input-sequence\n",
    "2. Address Vanishing Gradient problem!!\n",
    "\n",
    "*** Model Structure/Overview ***\n",
    "<img src = \"images/rnn_2.png\">"
   ]
  },
  {
   "cell_type": "code",
   "execution_count": 15,
   "metadata": {
    "collapsed": true
   },
   "outputs": [],
   "source": [
    "from __future__ import unicode_literals, print_function, division\n",
    "from io import open\n",
    "import glob\n",
    "import unicodedata\n",
    "import string"
   ]
  },
  {
   "cell_type": "markdown",
   "metadata": {},
   "source": [
    "# Overview\n",
    "\n",
    "We are going to build the network shown above for using the \"ordering\" information in classifying names.\n",
    "\n",
    "***How to interpret the diagram:***\n",
    "\n",
    "1. The arrows represent flow of information/data\n",
    "2. Yellow boxes -> Input/Output to the network\n",
    "3. Blue boxes -> Variables/parameters/activation in the Network\n",
    "\n",
    "***You are going to code the following portions:***\n",
    "\n",
    "1. RNN Class - Incorporate nn.LSTM module instead of the Linear Module\n",
    "\n",
    "***What you need not code***\n",
    "\n",
    "1. Loading files\n",
    "2. Basic String Processing\n",
    "3. Training phase - input processing\n",
    "4. Most of code from previous exercise\n",
    "\n",
    "However, I would suggest that it would be a good exercise to read the utilites and understand them before proceeding.\n",
    "\n",
    "Lets get started!!"
   ]
  },
  {
   "cell_type": "code",
   "execution_count": 16,
   "metadata": {},
   "outputs": [
    {
     "name": "stdout",
     "output_type": "stream",
     "text": [
      "['data/RNN/names/Arabic.txt', 'data/RNN/names/Chinese.txt', 'data/RNN/names/Czech.txt', 'data/RNN/names/Dutch.txt', 'data/RNN/names/English.txt', 'data/RNN/names/French.txt', 'data/RNN/names/German.txt', 'data/RNN/names/Greek.txt', 'data/RNN/names/Irish.txt', 'data/RNN/names/Italian.txt', 'data/RNN/names/Japanese.txt', 'data/RNN/names/Korean.txt', 'data/RNN/names/Polish.txt', 'data/RNN/names/Portuguese.txt', 'data/RNN/names/Russian.txt', 'data/RNN/names/Scottish.txt', 'data/RNN/names/Spanish.txt', 'data/RNN/names/Vietnamese.txt']\n"
     ]
    }
   ],
   "source": [
    "def findFiles(path): return glob.glob(path)\n",
    "\n",
    "print(findFiles('data/RNN/names/*.txt'))"
   ]
  },
  {
   "cell_type": "markdown",
   "metadata": {},
   "source": [
    "# String Processing"
   ]
  },
  {
   "cell_type": "code",
   "execution_count": 17,
   "metadata": {
    "collapsed": true
   },
   "outputs": [],
   "source": [
    "all_letters = string.ascii_letters + \" .,;'\"\n",
    "n_letters = len(all_letters)\n",
    "\n",
    "def unicodeToAscii(s):\n",
    "    return ''.join(\n",
    "        c for c in unicodedata.normalize('NFD', s)\n",
    "        if unicodedata.category(c) != 'Mn'\n",
    "        and c in all_letters\n",
    "    )"
   ]
  },
  {
   "cell_type": "markdown",
   "metadata": {},
   "source": [
    "# Load Files"
   ]
  },
  {
   "cell_type": "code",
   "execution_count": 18,
   "metadata": {
    "collapsed": true
   },
   "outputs": [],
   "source": [
    "category_lines = {}\n",
    "all_categories = []\n",
    "\n",
    "def readLines(filename):\n",
    "    lines = open(filename, encoding='utf-8').read().strip().split('\\n')\n",
    "    return [unicodeToAscii(line) for line in lines]\n",
    "\n",
    "\n",
    "for filename in findFiles('data/RNN/names/*.txt'):\n",
    "    category = filename.split('/')[-1].split('.')[0]\n",
    "    all_categories.append(category)\n",
    "    lines = readLines(filename)\n",
    "    category_lines[category] = lines\n",
    "\n",
    "n_categories = len(all_categories)"
   ]
  },
  {
   "cell_type": "markdown",
   "metadata": {},
   "source": [
    "# One hot encoding of Input"
   ]
  },
  {
   "cell_type": "code",
   "execution_count": 19,
   "metadata": {},
   "outputs": [
    {
     "name": "stdout",
     "output_type": "stream",
     "text": [
      "torch.Size([5, 1, 57])\n"
     ]
    }
   ],
   "source": [
    "import torch\n",
    "\n",
    "# Find letter index from all_letters, e.g. \"a\" = 0\n",
    "def letterToIndex(letter):\n",
    "    return all_letters.find(letter)\n",
    "\n",
    "\n",
    "def letterToTensor(letter):\n",
    "    tensor = torch.zeros(1, n_letters)\n",
    "    tensor[0][letterToIndex(letter)] = 1\n",
    "    return tensor\n",
    "\n",
    "\n",
    "def lineToTensor(line):\n",
    "    tensor = torch.zeros(len(line), 1, n_letters)\n",
    "    for li, letter in enumerate(line):\n",
    "        tensor[li][0][letterToIndex(letter)] = 1\n",
    "    return tensor\n",
    "\n",
    "print(lineToTensor('Jones').size())"
   ]
  },
  {
   "cell_type": "markdown",
   "metadata": {},
   "source": [
    "# The RNN Module - Yay!\n",
    "\n",
    "<img src = \"images/rnn_2.png\">\n",
    "\n",
    "Code the above depicted network!! \n",
    "\n",
    "***Dont worry about using nn.RNN Module now. We will use it in the next exercise. For now focus on understanding how \"recurrence\" relation is captured in PyTorch.***\n",
    "\n",
    "I have already typed out the LHS - You need to fill-in the RHS taking help from the comments that preceed each line.\n",
    "\n",
    "***For each line of code please look up the diagram above to understand the flow of logic***\n",
    "\n",
    "Use LSTM for ***i2h*** layer - beware of hidden and state information.. how to combine?? Experiment\n",
    "\n",
    "***How to interpret the diagram:***\n",
    "\n",
    "1. The arrows represent flow of information/data\n",
    "2. Yellow boxes -> Input/Output to the network\n",
    "3. Blue boxes -> Variables/parameters/activation in the Network\n",
    "\n",
    "For any syntax clarification look up: http://pytorch.org/docs/master/nn.html"
   ]
  },
  {
   "cell_type": "code",
   "execution_count": 20,
   "metadata": {
    "collapsed": true
   },
   "outputs": [],
   "source": [
    "import torch.nn as nn\n",
    "from torch.autograd import Variable\n",
    "\n",
    "class RNN(nn.Module):\n",
    "    def __init__(self, input_size, hidden_size, output_size):\n",
    "        super(RNN, self).__init__()\n",
    "\n",
    "        self.hidden_size = hidden_size\n",
    "\n",
    "        self.i2h = nn.LSTM(input_size + 2*hidden_size, hidden_size)\n",
    "        self.i2o = nn.Linear(input_size + 2*hidden_size, output_size)\n",
    "        self.softmax = nn.LogSoftmax()\n",
    "\n",
    "    def forward(self, input, hidden,state):\n",
    "        combined = torch.cat((input, hidden.view(1,-1),state.view(1,-1)), 1)\n",
    "        _,hidden = self.i2h(combined,(hidden,state)) \n",
    "        output = self.i2o(combined)\n",
    "        output = self.softmax(output)\n",
    "        return output, hidden\n",
    "\n",
    "    def initHidden(self):\n",
    "        return Variable(torch.zeros(1, 1,self.hidden_size))\n",
    "\n",
    "n_hidden = 128\n",
    "rnn = RNN(n_letters, n_hidden, n_categories)"
   ]
  },
  {
   "cell_type": "markdown",
   "metadata": {},
   "source": [
    "# Utitlity code to generate one training example at a time\n",
    "\n",
    "***randomTrainingExample()*** -> return a training example in the following format\n",
    "\n",
    "1. Category: which language the word is from\n",
    "2. Line: the word itself\n",
    "3. Category_tensor: Which category the word belongs (index position) (label information)\n",
    "4. Line_tensor: one-hot representation of the word (len(word),1,n_letters)"
   ]
  },
  {
   "cell_type": "code",
   "execution_count": 22,
   "metadata": {},
   "outputs": [
    {
     "name": "stdout",
     "output_type": "stream",
     "text": [
      "category = German / line = Gerver\n",
      "category = Greek / line = Kotsilimbas\n",
      "category = Portuguese / line = Lobo\n",
      "category = German / line = Auer\n",
      "category = Chinese / line = Tang\n",
      "category = Italian / line = Sgro\n",
      "category = Arabic / line = Hajjar\n",
      "category = Greek / line = Zaloumi\n",
      "category = Chinese / line = Zhou\n",
      "category = Portuguese / line = Ferreiro\n"
     ]
    }
   ],
   "source": [
    "import random\n",
    "\n",
    "def randomChoice(l):\n",
    "    return l[random.randint(0, len(l) - 1)]\n",
    "\n",
    "def randomTrainingExample():\n",
    "    category = randomChoice(all_categories)\n",
    "    line = randomChoice(category_lines[category])\n",
    "    category_tensor = Variable(torch.LongTensor([all_categories.index(category)]))\n",
    "    line_tensor = Variable(lineToTensor(line))\n",
    "    return category, line, category_tensor, line_tensor\n",
    "\n",
    "for i in range(10):\n",
    "    category, line, category_tensor, line_tensor = randomTrainingExample()\n",
    "    print('category =', category, '/ line =', line)"
   ]
  },
  {
   "cell_type": "markdown",
   "metadata": {},
   "source": [
    "# Defining your Loss - nn.NLLoss()"
   ]
  },
  {
   "cell_type": "code",
   "execution_count": 23,
   "metadata": {
    "collapsed": true
   },
   "outputs": [],
   "source": [
    "criterion = nn.NLLLoss()"
   ]
  },
  {
   "cell_type": "markdown",
   "metadata": {},
   "source": [
    "# Training your Network\n",
    "\n",
    "1. Define hidden layer\n",
    "2. zero-out rnn grad\n",
    "3. for each input/character\n",
    "    1. output,hidden = rnn(inout_char,hidden)\n",
    "4. Compute loss\n",
    "5. backpropagate loss though the network for the entire word\n",
    "6. for every weight matrix in rnn.parameters()\n",
    "    1.Do a gradient descent on rnn parameters using p.data.add_ utility\n",
    "7. return output and loss value!"
   ]
  },
  {
   "cell_type": "code",
   "execution_count": 24,
   "metadata": {
    "collapsed": true
   },
   "outputs": [],
   "source": [
    "learning_rate = 0.005 # If you set this too high, it might explode. If too low, it might not learn\n",
    "\n",
    "def train(category_tensor, line_tensor):\n",
    "    hidden = rnn.initHidden()\n",
    "    state = rnn.initHidden()\n",
    "    \n",
    "    rnn.zero_grad()\n",
    "\n",
    "    for i in range(line_tensor.size()[0]):\n",
    "        output, t = rnn(line_tensor[i],hidden,state)\n",
    "        hidden,state = t[0],t[1]    \n",
    "    loss = criterion(output, category_tensor)\n",
    "    loss.backward()\n",
    "\n",
    "    # Add parameters' gradients to their values, multiplied by learning rate\n",
    "    for p in rnn.parameters():\n",
    "        p.data.add_(-learning_rate, p.grad.data)\n",
    "\n",
    "    return output, loss.data[0]"
   ]
  },
  {
   "cell_type": "markdown",
   "metadata": {},
   "source": [
    "# Given the softmax output, classify into one of the 18 categories."
   ]
  },
  {
   "cell_type": "code",
   "execution_count": 26,
   "metadata": {},
   "outputs": [],
   "source": [
    "def categoryFromOutput(output):\n",
    "    top_n, top_i = output.data.topk(1) # Tensor out of Variable with .data\n",
    "    category_i = top_i[0][0]\n",
    "    return all_categories[category_i], category_i"
   ]
  },
  {
   "cell_type": "markdown",
   "metadata": {},
   "source": [
    "# Time to run your code!\n",
    "\n",
    "***For a number of times do the following***\n",
    "\n",
    "1. Generate random example - use randomTrainingExample()\n",
    "2. train on category tensor as label, and line_tensor as inputs in train function\n",
    "3. compute loss - cumulative"
   ]
  },
  {
   "cell_type": "code",
   "execution_count": 27,
   "metadata": {},
   "outputs": [
    {
     "name": "stdout",
     "output_type": "stream",
     "text": [
      "5000 5% (0m 46s) 2.3452 Nishimoto / Portuguese ✗ (Japanese)\n",
      "10000 10% (1m 32s) 1.8815 Coghlan / Irish ✓\n",
      "15000 15% (2m 13s) 1.2495 Choi / Vietnamese ✗ (Korean)\n",
      "20000 20% (2m 55s) 1.8466 Kouri / Italian ✗ (Arabic)\n",
      "25000 25% (3m 37s) 1.0908 Slusarski / Polish ✓\n",
      "30000 30% (4m 19s) 1.1861 Couture / French ✓\n",
      "35000 35% (5m 1s) 1.5094 Kavanagh / Irish ✓\n",
      "40000 40% (5m 42s) 0.9403 Sauvageot / French ✓\n",
      "45000 45% (6m 23s) 0.1984 Sakellariou / Greek ✓\n",
      "50000 50% (7m 3s) 0.5148 Chu / Vietnamese ✓\n",
      "55000 55% (7m 44s) 1.5449 Williamson / Russian ✗ (Scottish)\n",
      "60000 60% (8m 25s) 0.1955 O'Ryan / Irish ✓\n",
      "65000 65% (9m 6s) 2.1639 Kikkert / Japanese ✗ (Dutch)\n",
      "70000 70% (9m 46s) 0.1950 Snyders / Dutch ✓\n",
      "75000 75% (10m 27s) 0.1779 Hadad / Arabic ✓\n",
      "80000 80% (11m 7s) 0.8776 Pavlicka / Czech ✓\n",
      "85000 85% (11m 50s) 0.0410 Romeijnsen / Dutch ✓\n",
      "90000 90% (432m 27s) 1.6818 Courtemanche / Russian ✗ (French)\n",
      "95000 95% (492m 24s) 0.4577 Vuu / Vietnamese ✓\n",
      "100000 100% (493m 15s) 0.5694 Gonzalez / Spanish ✓\n"
     ]
    }
   ],
   "source": [
    "import time\n",
    "import math\n",
    "\n",
    "n_iters = 100000\n",
    "print_every = 5000\n",
    "plot_every = 1000\n",
    "\n",
    "\n",
    "\n",
    "# Keep track of losses for plotting\n",
    "current_loss = 0\n",
    "all_losses = []\n",
    "\n",
    "def timeSince(since):\n",
    "    now = time.time()\n",
    "    s = now - since\n",
    "    m = math.floor(s / 60)\n",
    "    s -= m * 60\n",
    "    return '%dm %ds' % (m, s)\n",
    "\n",
    "start = time.time()\n",
    "\n",
    "for iter in range(1, n_iters + 1):\n",
    "    category, line, category_tensor, line_tensor = randomTrainingExample()\n",
    "    output, loss = train(category_tensor, line_tensor)\n",
    "    current_loss += loss\n",
    "\n",
    "    # Print iter number, loss, name and guess\n",
    "    if iter % print_every == 0:\n",
    "        guess, guess_i = categoryFromOutput(output)\n",
    "        correct = '✓' if guess == category else '✗ (%s)' % category\n",
    "        print('%d %d%% (%s) %.4f %s / %s %s' % (iter, iter / n_iters * 100, timeSince(start), loss, line, guess, correct))\n",
    "\n",
    "    # Add current loss avg to list of losses\n",
    "    if iter % plot_every == 0:\n",
    "        all_losses.append(current_loss / plot_every)\n",
    "        current_loss = 0"
   ]
  },
  {
   "cell_type": "markdown",
   "metadata": {},
   "source": [
    "# Plot the loss\n",
    "\n",
    "***if loss reducing==True:***\n",
    "\n",
    "Feel happy seeing loss!! Congratz... Great Job..\n",
    "\n",
    "***else:***\n",
    "\n",
    "Oops.. not reducing - something somewhere went wrong. Please re-read comments/pointers.. Just be careful while coding..No worries!"
   ]
  },
  {
   "cell_type": "code",
   "execution_count": 28,
   "metadata": {},
   "outputs": [
    {
     "data": {
      "image/png": "[encoded data removed]",
      "text/plain": [
       "<matplotlib.figure.Figure at 0x116041240>"
      ]
     },
     "metadata": {},
     "output_type": "display_data"
    }
   ],
   "source": [
    "import matplotlib.pyplot as plt\n",
    "import matplotlib.ticker as ticker\n",
    "\n",
    "plt.figure()\n",
    "plt.plot(all_losses)\n",
    "plt.show()"
   ]
  },
  {
   "cell_type": "markdown",
   "metadata": {},
   "source": [
    "# Visualize Confusion Matrix on Evaluation\n",
    "\n",
    "Just run the cell below - and visualize confusion matrix!\n",
    "\n",
    "Please read the code at leisure.. It is worth understanding how to compute the confusion matrix and visualizing the output.."
   ]
  },
  {
   "cell_type": "code",
   "execution_count": 29,
   "metadata": {},
   "outputs": [
    {
     "data": {
      "image/png": "[encoded data removed]",
      "text/plain": [
       "<matplotlib.figure.Figure at 0x11a889518>"
      ]
     },
     "metadata": {},
     "output_type": "display_data"
    }
   ],
   "source": [
    "# Keep track of correct guesses in a confusion matrix\n",
    "confusion = torch.zeros(n_categories, n_categories)\n",
    "n_confusion = 10000\n",
    "\n",
    "# Just return an output given a line\n",
    "def evaluate(line_tensor):\n",
    "    hidden = rnn.initHidden()\n",
    "    state = rnn.initHidden()\n",
    "    for i in range(line_tensor.size()[0]):\n",
    "        output, t = rnn(line_tensor[i], hidden,state)\n",
    "        hidden,state = t[0],t[1]\n",
    "\n",
    "    return output\n",
    "\n",
    "# Go through a bunch of examples and record which are correctly guessed\n",
    "for i in range(n_confusion):\n",
    "    category, line, category_tensor, line_tensor = randomTrainingExample()\n",
    "    output = evaluate(line_tensor)\n",
    "    guess, guess_i = categoryFromOutput(output)\n",
    "    category_i = all_categories.index(category)\n",
    "    confusion[category_i][guess_i] += 1\n",
    "\n",
    "# Normalize by dividing every row by its sum\n",
    "for i in range(n_categories):\n",
    "    confusion[i] = confusion[i] / confusion[i].sum()\n",
    "\n",
    "# Set up plot\n",
    "fig = plt.figure()\n",
    "ax = fig.add_subplot(111)\n",
    "cax = ax.matshow(confusion.numpy())\n",
    "fig.colorbar(cax)\n",
    "\n",
    "# Set up axes\n",
    "ax.set_xticklabels([''] + all_categories, rotation=90)\n",
    "ax.set_yticklabels([''] + all_categories)\n",
    "\n",
    "# Force label at every tick\n",
    "ax.xaxis.set_major_locator(ticker.MultipleLocator(1))\n",
    "ax.yaxis.set_major_locator(ticker.MultipleLocator(1))\n",
    "\n",
    "# sphinx_gallery_thumbnail_number = 2\n",
    "plt.show()"
   ]
  },
  {
   "cell_type": "markdown",
   "metadata": {
    "collapsed": true
   },
   "source": [
    "# Sayanora\n",
    "\n",
    "Great! Hope this assignment was useful and productive.. Looking forward for our next session on LSTM`"
   ]
  },
  {
   "cell_type": "code",
   "execution_count": null,
   "metadata": {
    "collapsed": true
   },
   "outputs": [],
   "source": []
  }
 ],
 "metadata": {
  "kernelspec": {
   "display_name": "Python 3",
   "language": "python",
   "name": "python3"
  },
  "language_info": {
   "codemirror_mode": {
    "name": "ipython",
    "version": 3
   },
   "file_extension": ".py",
   "mimetype": "text/x-python",
   "name": "python",
   "nbconvert_exporter": "python",
   "pygments_lexer": "ipython3",
   "version": "3.6.3"
  }
 },
 "nbformat": 4,
 "nbformat_minor": 2
}
